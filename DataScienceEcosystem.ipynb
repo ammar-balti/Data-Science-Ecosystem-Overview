{
 "cells": [
  {
   "cell_type": "markdown",
   "id": "49ecc789-4bb6-483a-ae77-6cb7b14f5ba9",
   "metadata": {},
   "source": [
    "# Data Science Tools and Ecosystem"
   ]
  },
  {
   "cell_type": "markdown",
   "id": "d75e80e4-1425-49d1-b813-77a08fba0d7c",
   "metadata": {},
   "source": [
    "In this notebook, Data Science Tools and Ecosystem are summarized.\n"
   ]
  },
  {
   "cell_type": "markdown",
   "id": "9b22736c-8111-4edc-a47c-bcf6f1b14f0d",
   "metadata": {},
   "source": [
    "Some of the popular languages that Data Scientists use are:\r\n",
    "1. Python\r\n",
    "2. R\r\n",
    "3. SQL"
   ]
  },
  {
   "cell_type": "markdown",
   "id": "e2fd5dcf-1dea-4490-93ae-4ea8513b0cb7",
   "metadata": {},
   "source": [
    "Some of the commonly used libraries used by Data Scientists include:\r\n",
    "1. Pandas\r\n",
    "2. NumPy\r\n",
    "3. Scikit-learn"
   ]
  },
  {
   "cell_type": "markdown",
   "id": "87271cc0-df33-44be-b701-db6458910b9e",
   "metadata": {},
   "source": [
    "| Data Science Tools |\r\n",
    "|--------------------|\r\n",
    "| Jupyter Notebook   |\r\n",
    "| RStudio            |\r\n",
    "| VS Code            |"
   ]
  },
  {
   "cell_type": "markdown",
   "id": "a667d744-7a86-4dc1-bd37-1d389b45599a",
   "metadata": {},
   "source": [
    "### Below are a few examples of evaluating arithmetic expressions in Python."
   ]
  },
  {
   "cell_type": "code",
   "execution_count": 9,
   "id": "039d0c78-3c93-4344-a1b9-93bcad070bd6",
   "metadata": {},
   "outputs": [
    {
     "data": {
      "text/plain": [
       "25"
      ]
     },
     "execution_count": 9,
     "metadata": {},
     "output_type": "execute_result"
    }
   ],
   "source": [
    "# This is a simple arithmetic expression to multiply then add integers.\n",
    "5 * 4 + 5"
   ]
  },
  {
   "cell_type": "code",
   "execution_count": 17,
   "id": "0a1ddfb3-bb36-4a8a-80e9-89b8ec08ae1e",
   "metadata": {},
   "outputs": [
    {
     "data": {
      "text/plain": [
       "33.333333333333336"
      ]
     },
     "execution_count": 17,
     "metadata": {},
     "output_type": "execute_result"
    }
   ],
   "source": [
    "# This will convert 2000 minutes to hours by dividing by 60.\n",
    "2000 / 60"
   ]
  },
  {
   "cell_type": "markdown",
   "id": "a4d8987c-2b4c-4d3f-a963-6ff8939c3891",
   "metadata": {},
   "source": [
    "**Objectives:**\r\n",
    "- List popular languages for Data Science.\r\n",
    "- List commonly used libraries in Data Science.\r\n",
    "- Create tables in Jupyter Notebooks.\r\n",
    "- Evaluate arithmetic expressions in Python."
   ]
  },
  {
   "cell_type": "markdown",
   "id": "5c5a5510-f23a-4f50-a39b-a7d7334122b9",
   "metadata": {},
   "source": [
    "## Author\r",
    "Ammar Hussaine"
   ]
  },
  {
   "cell_type": "code",
   "execution_count": null,
   "id": "98ee729a-9ee6-4741-a2e3-d1f5cc6ac661",
   "metadata": {},
   "outputs": [],
   "source": []
  }
 ],
 "metadata": {
  "kernelspec": {
   "display_name": "Python 3 (ipykernel)",
   "language": "python",
   "name": "python3"
  },
  "language_info": {
   "codemirror_mode": {
    "name": "ipython",
    "version": 3
   },
   "file_extension": ".py",
   "mimetype": "text/x-python",
   "name": "python",
   "nbconvert_exporter": "python",
   "pygments_lexer": "ipython3",
   "version": "3.12.3"
  }
 },
 "nbformat": 4,
 "nbformat_minor": 5
}
